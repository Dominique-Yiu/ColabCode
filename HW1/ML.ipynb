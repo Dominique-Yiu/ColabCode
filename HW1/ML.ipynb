{
  "nbformat": 4,
  "nbformat_minor": 0,
  "metadata": {
    "colab": {
      "name": "ML.ipynb",
      "provenance": [],
      "collapsed_sections": [],
      "authorship_tag": "ABX9TyOd5eR8nw+Q7pFJYxSrSWjm",
      "include_colab_link": true
    },
    "kernelspec": {
      "name": "python3",
      "display_name": "Python 3"
    },
    "language_info": {
      "name": "python"
    },
    "accelerator": "GPU"
  },
  "cells": [
    {
      "cell_type": "markdown",
      "metadata": {
        "id": "view-in-github",
        "colab_type": "text"
      },
      "source": [
        "<a href=\"https://colab.research.google.com/github/Dominique-Yiu/ColabCode/blob/main/HW1/ML.ipynb\" target=\"_parent\"><img src=\"https://colab.research.google.com/assets/colab-badge.svg\" alt=\"Open In Colab\"/></a>"
      ]
    },
    {
      "cell_type": "code",
      "metadata": {
        "id": "3P1pUM8WvVE-",
        "colab": {
          "base_uri": "https://localhost:8080/"
        },
        "outputId": "f1b9b867-d6b9-4974-fa03-49c34e1077e5"
      },
      "source": [
        "from google.colab import drive\n",
        "\n",
        "drive.mount('/content/drive', force_remount=True)"
      ],
      "execution_count": null,
      "outputs": [
        {
          "output_type": "stream",
          "name": "stdout",
          "text": [
            "Mounted at /content/drive\n"
          ]
        }
      ]
    },
    {
      "cell_type": "code",
      "metadata": {
        "id": "tYFaDUkevnwm",
        "colab": {
          "base_uri": "https://localhost:8080/"
        },
        "outputId": "fd147d7e-a946-4194-eb3b-b12bcc5dd8ea"
      },
      "source": [
        "!pwd"
      ],
      "execution_count": null,
      "outputs": [
        {
          "output_type": "stream",
          "name": "stdout",
          "text": [
            "/content\n"
          ]
        }
      ]
    },
    {
      "cell_type": "code",
      "metadata": {
        "id": "wdLtnGQbwfdE"
      },
      "source": [
        "!mkdir ML2020"
      ],
      "execution_count": null,
      "outputs": []
    },
    {
      "cell_type": "code",
      "metadata": {
        "colab": {
          "base_uri": "https://localhost:8080/"
        },
        "id": "pRimiVBGwm5T",
        "outputId": "e6c9b4a3-bc32-48fb-8da3-7838fde1f643"
      },
      "source": [
        "%cd /content/ML2020"
      ],
      "execution_count": null,
      "outputs": [
        {
          "output_type": "stream",
          "name": "stdout",
          "text": [
            "/content/ML2020\n"
          ]
        }
      ]
    },
    {
      "cell_type": "markdown",
      "metadata": {
        "id": "OYvhJMQQ2DK4"
      },
      "source": [
        "# 下载数据"
      ]
    },
    {
      "cell_type": "code",
      "metadata": {
        "id": "dmWdUrHgwu0t",
        "colab": {
          "base_uri": "https://localhost:8080/"
        },
        "outputId": "cfdc6124-dbab-4468-d4e5-26c9549f6cf7"
      },
      "source": [
        "tr_path = 'covid.train.csv'  # path to training data\n",
        "tt_path = 'covid.test.csv'   # path to testing data\n",
        "\n",
        "!gdown --id '19CCyCgJrUxtvgZF53vnctJiOJ23T5mqF' --output covid.train.csv\n",
        "!gdown --id '1CE240jLm2npU-tdz81-oVKEF3T2yfT1O' --output covid.test.csv"
      ],
      "execution_count": null,
      "outputs": [
        {
          "output_type": "stream",
          "name": "stdout",
          "text": [
            "Downloading...\n",
            "From: https://drive.google.com/uc?id=19CCyCgJrUxtvgZF53vnctJiOJ23T5mqF\n",
            "To: /content/ML2020/covid.train.csv\n",
            "100% 2.00M/2.00M [00:00<00:00, 62.4MB/s]\n",
            "Downloading...\n",
            "From: https://drive.google.com/uc?id=1CE240jLm2npU-tdz81-oVKEF3T2yfT1O\n",
            "To: /content/ML2020/covid.test.csv\n",
            "100% 651k/651k [00:00<00:00, 41.7MB/s]\n"
          ]
        }
      ]
    },
    {
      "cell_type": "markdown",
      "metadata": {
        "id": "jD9AXPP-3BWz"
      },
      "source": [
        "# 导入需要的数据"
      ]
    },
    {
      "cell_type": "code",
      "metadata": {
        "id": "dO1I_Rhb2Qe4"
      },
      "source": [
        "# pytorch\n",
        "import torch\n",
        "import torch.nn as nn\n",
        "from torch.utils.data import Dataset, DataLoader\n",
        "\n",
        "# for plotting\n",
        "import matplotlib.pyplot as plt\n",
        "from matplotlib.pyplot import figure\n",
        "\n",
        "myseed = 42069  # set a random seed for reproducibility"
      ],
      "execution_count": null,
      "outputs": []
    }
  ]
}